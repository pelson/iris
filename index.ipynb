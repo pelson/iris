{
 "cells": [
  {
   "cell_type": "markdown",
   "metadata": {},
   "source": [
    "# Xube: The CF data model built on top of Iris and powered by XArray\n",
    "## Why do Atmospheric, Oceanic, and Earth Scientists have to choose between a the strength of Iris' CF implementation and the strength of XArray's labelled nd-arrays?  \n",
    "## Or: how you can have your cake and eat it.\n",
    "\n",
    "![](https://www.questers.com/sites/default/files/styles/header_image/public/1140x390-header-python.jpg?itok=kXCVEJNw)"
   ]
  },
  {
   "cell_type": "markdown",
   "metadata": {},
   "source": [
    "[XArray](http://xarray.pydata.org/en/stable/) adopts the Common Data Model for self- describing scientific data in widespread use in the Earth sciences: xarray.Dataset is an in-memory representation of a netCDF file.\n",
    "\n",
    "[Iris](https://scitools.org.uk/iris/docs/latest/) implements a [Climate and Forecast](http://cfconventions.org/) conventions inspired datamodel which gives specific meaning to certain metadata.\n",
    "\n",
    "They are therefore data model implementations at different levels of abstraction. These different levels gave rise to the statement:\n",
    "\n",
    "> **XArray *represents* your data, Iris *understands* your data.**"
   ]
  },
  {
   "cell_type": "markdown",
   "metadata": {},
   "source": [
    "The CF-conventions are born out of providing semantic meaning to netCDF-like data, so it follows that Iris is a higher level abstraction than XArray. If one were to attempt sharing the constructs of XArray and Iris, it would logically follow that Iris' could be built on top of the XArray data model. Chronology is perhaps the main reason that Iris was not built upon XArray, but what follows is a prototype that allows Iris to interface directly to XArray allows us to really have our cake and eat it."
   ]
  },
  {
   "cell_type": "markdown",
   "metadata": {},
   "source": [
    "### The Iris data model becomes a proxy\n",
    "\n",
    "The API of XArray and Iris is somewhat different. We have recieved a significant amount of conflicting feedback about both APIs, and it is clear that there are strong preferences towards both approaches. Furthermore, Iris is the basis for a corpus of applications and scripts that ammount to *multiple centuries* of accumulated scientist time (100+ scientists over the last 6 years). It is therefore highly undesirable to *significantly* break/remove API.\n",
    "\n",
    "> For Iris to be built upon XArray, it **must** retain its API and constructs.\n",
    "\n",
    "Iris proxying out to XArray is the obvious solution to this condition. Rather than duplicating data and making redundant copies of data/metadata the *only* viable approach is for Iris' objects to be very thin wrappers on top of XArray.\n",
    "\n",
    "> All metadata **must** live within the XArray data objects.\n",
    "\n",
    "Given these conditions, we have implementations of Iris' objects that cannonically store data and metadata on DataArray and Dataset objects, translating to Iris constructs on-the-fly as requested."
   ]
  },
  {
   "cell_type": "code",
   "execution_count": 1,
   "metadata": {},
   "outputs": [
    {
     "data": {
      "text/plain": [
       "<xarray.Dataset>\n",
       "Dimensions:                  (bnds: 2, latitude: 37, longitude: 49, time: 240)\n",
       "Coordinates:\n",
       "  * time                     (time) object 1860-06-01 00:00:00 ... 2099-06-01 00:00:00\n",
       "  * latitude                 (latitude) float32 15.0 16.25 17.5 ... 58.75 60.0\n",
       "  * longitude                (longitude) float32 225.0 226.875 ... 313.125 315.0\n",
       "    forecast_period          (time) timedelta64[ns] ...\n",
       "    forecast_reference_time  object ...\n",
       "    height                   float64 ...\n",
       "Dimensions without coordinates: bnds\n",
       "Data variables:\n",
       "    air_temperature          (time, latitude, longitude) float32 ...\n",
       "    latitude_longitude       int32 ...\n",
       "    time_bnds                (time, bnds) float64 ...\n",
       "Attributes:\n",
       "    Conventions:  CF-1.5"
      ]
     },
     "execution_count": 1,
     "metadata": {},
     "output_type": "execute_result"
    }
   ],
   "source": [
    "import iris\n",
    "import xarray as xr\n",
    "\n",
    "fname = iris.sample_data_path('E1_north_america.nc')\n",
    "ds = xr.open_dataset(fname)\n",
    "ds"
   ]
  },
  {
   "cell_type": "code",
   "execution_count": 2,
   "metadata": {},
   "outputs": [
    {
     "data": {
      "text/html": [
       "\n",
       "<style>\n",
       "  a.iris {\n",
       "      text-decoration: none !important;\n",
       "  }\n",
       "  table.iris {\n",
       "      white-space: pre;\n",
       "      border: 1px solid;\n",
       "      border-color: #9c9c9c;\n",
       "      font-family: monaco, monospace;\n",
       "  }\n",
       "  th.iris {\n",
       "      background: #303f3f;\n",
       "      color: #e0e0e0;\n",
       "      border-left: 1px solid;\n",
       "      border-color: #9c9c9c;\n",
       "      font-size: 1.05em;\n",
       "      min-width: 50px;\n",
       "      max-width: 125px;\n",
       "  }\n",
       "  tr.iris :first-child {\n",
       "      border-right: 1px solid #9c9c9c !important;\n",
       "  }\n",
       "  td.iris-title {\n",
       "      background: #d5dcdf;\n",
       "      border-top: 1px solid #9c9c9c;\n",
       "      font-weight: bold;\n",
       "  }\n",
       "  .iris-word-cell {\n",
       "      text-align: left !important;\n",
       "      white-space: pre;\n",
       "  }\n",
       "  .iris-subheading-cell {\n",
       "      padding-left: 2em !important;\n",
       "  }\n",
       "  .iris-inclusion-cell {\n",
       "      padding-right: 1em !important;\n",
       "  }\n",
       "  .iris-panel-body {\n",
       "      padding-top: 0px;\n",
       "  }\n",
       "  .iris-panel-title {\n",
       "      padding-left: 3em;\n",
       "  }\n",
       "  .iris-panel-title {\n",
       "      margin-top: 7px;\n",
       "  }\n",
       "</style>\n",
       "<table class=\"iris\" id=\"4610492904\">\n",
       "    <tr class=\"iris\">\n",
       "<th class=\"iris iris-word-cell\">Air Temperature (K)</th>\n",
       "<th class=\"iris iris-word-cell\">time</th>\n",
       "<th class=\"iris iris-word-cell\">latitude</th>\n",
       "<th class=\"iris iris-word-cell\">longitude</th>\n",
       "</tr>\n",
       "    <tr class=\"iris\">\n",
       "<td class=\"iris-word-cell iris-subheading-cell\">Shape</td>\n",
       "<td class=\"iris iris-inclusion-cell\">240</td>\n",
       "<td class=\"iris iris-inclusion-cell\">37</td>\n",
       "<td class=\"iris iris-inclusion-cell\">49</td>\n",
       "</td>\n",
       "    <tr class=\"iris\">\n",
       "    <td class=\"iris-title iris-word-cell\">Dimension coordinates</td>\n",
       "    <td class=\"iris-title\"></td>\n",
       "    <td class=\"iris-title\"></td>\n",
       "    <td class=\"iris-title\"></td>\n",
       "</tr>\n",
       "<tr class=\"iris\">\n",
       "    <td class=\"iris-word-cell iris-subheading-cell\">\ttime</td>\n",
       "    <td class=\"iris-inclusion-cell\">x</td>\n",
       "    <td class=\"iris-inclusion-cell\">-</td>\n",
       "    <td class=\"iris-inclusion-cell\">-</td>\n",
       "</tr>\n",
       "<tr class=\"iris\">\n",
       "    <td class=\"iris-word-cell iris-subheading-cell\">\tlatitude</td>\n",
       "    <td class=\"iris-inclusion-cell\">-</td>\n",
       "    <td class=\"iris-inclusion-cell\">x</td>\n",
       "    <td class=\"iris-inclusion-cell\">-</td>\n",
       "</tr>\n",
       "<tr class=\"iris\">\n",
       "    <td class=\"iris-word-cell iris-subheading-cell\">\tlongitude</td>\n",
       "    <td class=\"iris-inclusion-cell\">-</td>\n",
       "    <td class=\"iris-inclusion-cell\">-</td>\n",
       "    <td class=\"iris-inclusion-cell\">x</td>\n",
       "</tr>\n",
       "<tr class=\"iris\">\n",
       "    <td class=\"iris-title iris-word-cell\">Auxiliary coordinates</td>\n",
       "    <td class=\"iris-title\"></td>\n",
       "    <td class=\"iris-title\"></td>\n",
       "    <td class=\"iris-title\"></td>\n",
       "</tr>\n",
       "<tr class=\"iris\">\n",
       "    <td class=\"iris-word-cell iris-subheading-cell\">\tforecast_reference_time</td>\n",
       "    <td class=\"iris-inclusion-cell\">-</td>\n",
       "    <td class=\"iris-inclusion-cell\">-</td>\n",
       "    <td class=\"iris-inclusion-cell\">-</td>\n",
       "</tr>\n",
       "<tr class=\"iris\">\n",
       "    <td class=\"iris-word-cell iris-subheading-cell\">\theight</td>\n",
       "    <td class=\"iris-inclusion-cell\">-</td>\n",
       "    <td class=\"iris-inclusion-cell\">-</td>\n",
       "    <td class=\"iris-inclusion-cell\">-</td>\n",
       "</tr>\n",
       "<tr class=\"iris\">\n",
       "    <td class=\"iris-word-cell iris-subheading-cell\">\tforecast_period</td>\n",
       "    <td class=\"iris-inclusion-cell\">x</td>\n",
       "    <td class=\"iris-inclusion-cell\">-</td>\n",
       "    <td class=\"iris-inclusion-cell\">-</td>\n",
       "</tr>\n",
       "<tr class=\"iris\">\n",
       "    <td class=\"iris-title iris-word-cell\">Attributes</td>\n",
       "    <td class=\"iris-title\"></td>\n",
       "    <td class=\"iris-title\"></td>\n",
       "    <td class=\"iris-title\"></td>\n",
       "</tr>\n",
       "<tr class=\"iris\">\n",
       "    <td class=\"iris-word-cell iris-subheading-cell\">\tModel scenario</td>\n",
       "    <td class=\"iris-word-cell\" colspan=\"3\">E1</td>\n",
       "</tr>\n",
       "<tr class=\"iris\">\n",
       "    <td class=\"iris-word-cell iris-subheading-cell\">\tsource</td>\n",
       "    <td class=\"iris-word-cell\" colspan=\"3\">Data from Met Office Unified Model 6.05</td>\n",
       "</tr>\n",
       "<tr class=\"iris\">\n",
       "    <td class=\"iris-word-cell iris-subheading-cell\">\tukmo__um_stash_source</td>\n",
       "    <td class=\"iris-word-cell\" colspan=\"3\">m01s03i236</td>\n",
       "</tr>\n",
       "<tr class=\"iris\">\n",
       "    <td class=\"iris-title iris-word-cell\">Cell methods</td>\n",
       "    <td class=\"iris-title\"></td>\n",
       "    <td class=\"iris-title\"></td>\n",
       "    <td class=\"iris-title\"></td>\n",
       "</tr>\n",
       "<tr class=\"iris\">\n",
       "    <td class=\"iris-word-cell iris-subheading-cell\">\tmean</td>\n",
       "    <td class=\"iris-word-cell\" colspan=\"3\">time (6 hour)</td>\n",
       "</tr>\n",
       "</table>\n",
       "        "
      ],
      "text/plain": [
       "<iris 'Cube' of air_temperature / (K) (time: 240; latitude: 37; longitude: 49)>"
      ]
     },
     "execution_count": 2,
     "metadata": {},
     "output_type": "execute_result"
    }
   ],
   "source": [
    "import iris.xcube as xube\n",
    "\n",
    "cube = xube.XCube(ds, 'air_temperature')\n",
    "cube"
   ]
  },
  {
   "cell_type": "markdown",
   "metadata": {},
   "source": [
    "One can't appreciate that this really is a proxy until we try modifying some details on the cube and can see them updated on the dataset (and vice-versa)."
   ]
  },
  {
   "cell_type": "code",
   "execution_count": 3,
   "metadata": {},
   "outputs": [
    {
     "name": "stdout",
     "output_type": "stream",
     "text": [
      "<xarray.DataArray 'air_temperature' (time: 240, latitude: 37, longitude: 49)>\n",
      "[435120 values with dtype=float32]\n",
      "Coordinates:\n",
      "  * time                     (time) object 1860-06-01 00:00:00 ... 2099-06-01 00:00:00\n",
      "  * latitude                 (latitude) float32 15.0 16.25 17.5 ... 58.75 60.0\n",
      "  * longitude                (longitude) float32 225.0 226.875 ... 313.125 315.0\n",
      "    forecast_period          (time) timedelta64[ns] 449 days 18:00:00 ... 86489 days 18:00:00\n",
      "    forecast_reference_time  object 1859-09-01 06:00:00\n",
      "    height                   float64 1.5\n",
      "Attributes:\n",
      "    standard_name:          air_temperature\n",
      "    units:                  K\n",
      "    ukmo__um_stash_source:  m01s03i236\n",
      "    cell_methods:           time: mean (interval: 6 hour)\n",
      "    grid_mapping:           latitude_longitude\n"
     ]
    },
    {
     "data": {
      "text/html": [
       "\n",
       "<style>\n",
       "  a.iris {\n",
       "      text-decoration: none !important;\n",
       "  }\n",
       "  table.iris {\n",
       "      white-space: pre;\n",
       "      border: 1px solid;\n",
       "      border-color: #9c9c9c;\n",
       "      font-family: monaco, monospace;\n",
       "  }\n",
       "  th.iris {\n",
       "      background: #303f3f;\n",
       "      color: #e0e0e0;\n",
       "      border-left: 1px solid;\n",
       "      border-color: #9c9c9c;\n",
       "      font-size: 1.05em;\n",
       "      min-width: 50px;\n",
       "      max-width: 125px;\n",
       "  }\n",
       "  tr.iris :first-child {\n",
       "      border-right: 1px solid #9c9c9c !important;\n",
       "  }\n",
       "  td.iris-title {\n",
       "      background: #d5dcdf;\n",
       "      border-top: 1px solid #9c9c9c;\n",
       "      font-weight: bold;\n",
       "  }\n",
       "  .iris-word-cell {\n",
       "      text-align: left !important;\n",
       "      white-space: pre;\n",
       "  }\n",
       "  .iris-subheading-cell {\n",
       "      padding-left: 2em !important;\n",
       "  }\n",
       "  .iris-inclusion-cell {\n",
       "      padding-right: 1em !important;\n",
       "  }\n",
       "  .iris-panel-body {\n",
       "      padding-top: 0px;\n",
       "  }\n",
       "  .iris-panel-title {\n",
       "      padding-left: 3em;\n",
       "  }\n",
       "  .iris-panel-title {\n",
       "      margin-top: 7px;\n",
       "  }\n",
       "</style>\n",
       "<table class=\"iris\" id=\"4610492904\">\n",
       "    <tr class=\"iris\">\n",
       "<th class=\"iris iris-word-cell\">Air Temperature (K)</th>\n",
       "<th class=\"iris iris-word-cell\">time</th>\n",
       "<th class=\"iris iris-word-cell\">latitude</th>\n",
       "<th class=\"iris iris-word-cell\">longitude</th>\n",
       "</tr>\n",
       "    <tr class=\"iris\">\n",
       "<td class=\"iris-word-cell iris-subheading-cell\">Shape</td>\n",
       "<td class=\"iris iris-inclusion-cell\">240</td>\n",
       "<td class=\"iris iris-inclusion-cell\">37</td>\n",
       "<td class=\"iris iris-inclusion-cell\">49</td>\n",
       "</td>\n",
       "    <tr class=\"iris\">\n",
       "    <td class=\"iris-title iris-word-cell\">Dimension coordinates</td>\n",
       "    <td class=\"iris-title\"></td>\n",
       "    <td class=\"iris-title\"></td>\n",
       "    <td class=\"iris-title\"></td>\n",
       "</tr>\n",
       "<tr class=\"iris\">\n",
       "    <td class=\"iris-word-cell iris-subheading-cell\">\ttime</td>\n",
       "    <td class=\"iris-inclusion-cell\">x</td>\n",
       "    <td class=\"iris-inclusion-cell\">-</td>\n",
       "    <td class=\"iris-inclusion-cell\">-</td>\n",
       "</tr>\n",
       "<tr class=\"iris\">\n",
       "    <td class=\"iris-word-cell iris-subheading-cell\">\tlatitude</td>\n",
       "    <td class=\"iris-inclusion-cell\">-</td>\n",
       "    <td class=\"iris-inclusion-cell\">x</td>\n",
       "    <td class=\"iris-inclusion-cell\">-</td>\n",
       "</tr>\n",
       "<tr class=\"iris\">\n",
       "    <td class=\"iris-word-cell iris-subheading-cell\">\tlongitude</td>\n",
       "    <td class=\"iris-inclusion-cell\">-</td>\n",
       "    <td class=\"iris-inclusion-cell\">-</td>\n",
       "    <td class=\"iris-inclusion-cell\">x</td>\n",
       "</tr>\n",
       "<tr class=\"iris\">\n",
       "    <td class=\"iris-title iris-word-cell\">Auxiliary coordinates</td>\n",
       "    <td class=\"iris-title\"></td>\n",
       "    <td class=\"iris-title\"></td>\n",
       "    <td class=\"iris-title\"></td>\n",
       "</tr>\n",
       "<tr class=\"iris\">\n",
       "    <td class=\"iris-word-cell iris-subheading-cell\">\tforecast_reference_time</td>\n",
       "    <td class=\"iris-inclusion-cell\">-</td>\n",
       "    <td class=\"iris-inclusion-cell\">-</td>\n",
       "    <td class=\"iris-inclusion-cell\">-</td>\n",
       "</tr>\n",
       "<tr class=\"iris\">\n",
       "    <td class=\"iris-word-cell iris-subheading-cell\">\theight</td>\n",
       "    <td class=\"iris-inclusion-cell\">-</td>\n",
       "    <td class=\"iris-inclusion-cell\">-</td>\n",
       "    <td class=\"iris-inclusion-cell\">-</td>\n",
       "</tr>\n",
       "<tr class=\"iris\">\n",
       "    <td class=\"iris-word-cell iris-subheading-cell\">\tforecast_period</td>\n",
       "    <td class=\"iris-inclusion-cell\">x</td>\n",
       "    <td class=\"iris-inclusion-cell\">-</td>\n",
       "    <td class=\"iris-inclusion-cell\">-</td>\n",
       "</tr>\n",
       "<tr class=\"iris\">\n",
       "    <td class=\"iris-title iris-word-cell\">Attributes</td>\n",
       "    <td class=\"iris-title\"></td>\n",
       "    <td class=\"iris-title\"></td>\n",
       "    <td class=\"iris-title\"></td>\n",
       "</tr>\n",
       "<tr class=\"iris\">\n",
       "    <td class=\"iris-word-cell iris-subheading-cell\">\tukmo__um_stash_source</td>\n",
       "    <td class=\"iris-word-cell\" colspan=\"3\">m01s03i236</td>\n",
       "</tr>\n",
       "<tr class=\"iris\">\n",
       "    <td class=\"iris-title iris-word-cell\">Cell methods</td>\n",
       "    <td class=\"iris-title\"></td>\n",
       "    <td class=\"iris-title\"></td>\n",
       "    <td class=\"iris-title\"></td>\n",
       "</tr>\n",
       "<tr class=\"iris\">\n",
       "    <td class=\"iris-word-cell iris-subheading-cell\">\tmean</td>\n",
       "    <td class=\"iris-word-cell\" colspan=\"3\">time (6 hour)</td>\n",
       "</tr>\n",
       "</table>\n",
       "        "
      ],
      "text/plain": [
       "<iris 'Cube' of air_temperature / (K) (time: 240; latitude: 37; longitude: 49)>"
      ]
     },
     "execution_count": 3,
     "metadata": {},
     "output_type": "execute_result"
    }
   ],
   "source": [
    "del cube.attributes['Model scenario']\n",
    "del ds['air_temperature'].attrs['source']\n",
    "\n",
    "print(ds['air_temperature'])\n",
    "cube"
   ]
  },
  {
   "cell_type": "markdown",
   "metadata": {},
   "source": [
    "Notice how source and Model scenario are removed from both cube and dataset. There is no clever syncronisation of data going on here - there is **only one source of data** (XArray objects) that are being proxied into Iris objects on-the-fly.\n",
    "\n",
    "A similar story is true for coordinates on a cube - they are 100% proxy objects that only exist when requested."
   ]
  },
  {
   "cell_type": "code",
   "execution_count": 4,
   "metadata": {},
   "outputs": [
    {
     "name": "stdout",
     "output_type": "stream",
     "text": [
      "OrderedDict([('units', 'm'), ('standard_name', 'height'), ('positive', 'up')])\n",
      "XAuxCoord(array(1.5), standard_name='height', units=Unit('m'), var_name='height')\n"
     ]
    }
   ],
   "source": [
    "print(ds['height'].attrs)\n",
    "print(cube.coord('height'))"
   ]
  },
  {
   "cell_type": "code",
   "execution_count": 5,
   "metadata": {},
   "outputs": [
    {
     "name": "stdout",
     "output_type": "stream",
     "text": [
      "XAuxCoord(array(1.5), standard_name='height', units=Unit('km'), var_name='height')\n",
      "OrderedDict([('units', 'km'), ('standard_name', 'height'), ('positive', 'up')])\n"
     ]
    }
   ],
   "source": [
    "cube.coord('height').units = 'km'\n",
    "\n",
    "print(cube.coord('height'))\n",
    "print(ds['height'].attrs)"
   ]
  },
  {
   "cell_type": "markdown",
   "metadata": {},
   "source": [
    "Those familiar with Iris's API may wish to add metadata to their dataset, which is also supported:"
   ]
  },
  {
   "cell_type": "code",
   "execution_count": 6,
   "metadata": {},
   "outputs": [
    {
     "data": {
      "text/plain": [
       "<xarray.Dataset>\n",
       "Dimensions:                  (bnds: 2, latitude: 37, longitude: 49, time: 240)\n",
       "Coordinates:\n",
       "  * time                     (time) object 1860-06-01 00:00:00 ... 2099-06-01 00:00:00\n",
       "  * latitude                 (latitude) float32 15.0 16.25 17.5 ... 58.75 60.0\n",
       "  * longitude                (longitude) float32 225.0 226.875 ... 313.125 315.0\n",
       "    forecast_period          (time) timedelta64[ns] 449 days 18:00:00 ... 86489 days 18:00:00\n",
       "    forecast_reference_time  object 1859-09-01 06:00:00\n",
       "    height                   float64 1.5\n",
       "Dimensions without coordinates: bnds\n",
       "Data variables:\n",
       "    air_temperature          (time, latitude, longitude) float32 ...\n",
       "    latitude_longitude       int32 ...\n",
       "    time_bnds                (time, bnds) float64 -9.511e+05 ... 1.122e+06\n",
       "    custom_index             (time) int64 0 1 2 3 4 5 ... 235 236 237 238 239\n",
       "Attributes:\n",
       "    Conventions:  CF-1.5"
      ]
     },
     "execution_count": 6,
     "metadata": {},
     "output_type": "execute_result"
    }
   ],
   "source": [
    "import iris.coords\n",
    "realization = iris.coords.AuxCoord(points=range(240), long_name='custom_index')\n",
    "cube.add_aux_coord(realization, 0)\n",
    "ds"
   ]
  },
  {
   "cell_type": "markdown",
   "metadata": {},
   "source": [
    "From day 1 Iris has supported the concept of bounded coordinates. In XArray these are just auxilliary variables that must be associated together manually by the user using knowledge of the CF conventions. This is fully automatic in the Iris proxy: "
   ]
  },
  {
   "cell_type": "code",
   "execution_count": 7,
   "metadata": {},
   "outputs": [
    {
     "name": "stdout",
     "output_type": "stream",
     "text": [
      "False\n",
      "True\n"
     ]
    }
   ],
   "source": [
    "print(cube.coord('longitude').has_bounds())\n",
    "print(cube.coord('time').has_bounds())"
   ]
  },
  {
   "cell_type": "markdown",
   "metadata": {},
   "source": [
    "This is still a very early prototype and there is much functionality that either doesn't work or hasn't been tested. That said, parts of Iris are robust to these changes without the need for any kind of modification.\n",
    "\n",
    "For example, Iris understands units and how to convert from Kelvin to Centigrade..."
   ]
  },
  {
   "cell_type": "code",
   "execution_count": 8,
   "metadata": {},
   "outputs": [
    {
     "name": "stdout",
     "output_type": "stream",
     "text": [
      "257.31882 303.8437\n",
      "-15.8311825 30.69369\n"
     ]
    }
   ],
   "source": [
    "tmp_dv = ds['air_temperature']\n",
    "print(tmp_dv.data.min(), tmp_dv.data.max())\n",
    "cube.convert_units('degC')\n",
    "print(tmp_dv.data.min(), tmp_dv.data.max())"
   ]
  }
 ],
 "metadata": {
  "kernelspec": {
   "display_name": "Python [conda env:env_py37]",
   "language": "python",
   "name": "conda-env-env_py37-py"
  },
  "language_info": {
   "codemirror_mode": {
    "name": "ipython",
    "version": 3
   },
   "file_extension": ".py",
   "mimetype": "text/x-python",
   "name": "python",
   "nbconvert_exporter": "python",
   "pygments_lexer": "ipython3",
   "version": "3.7.1"
  }
 },
 "nbformat": 4,
 "nbformat_minor": 2
}
